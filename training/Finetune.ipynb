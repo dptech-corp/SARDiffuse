{
 "cells": [
  {
   "cell_type": "markdown",
   "metadata": {},
   "source": [
    "### 0.包导入和参数设置"
   ]
  },
  {
   "cell_type": "code",
   "execution_count": null,
   "metadata": {},
   "outputs": [],
   "source": [
    "# 导入包\n",
    "import argparse\n",
    "import logging\n",
    "import math\n",
    "import os\n",
    "import random\n",
    "import shutil\n",
    "from contextlib import nullcontext\n",
    "from pathlib import Path\n",
    "from collections import OrderedDict\n",
    "\n",
    "import cv2\n",
    "import datasets\n",
    "import numpy as np\n",
    "import torch\n",
    "import torch.nn as nn\n",
    "import torch.nn.functional as F\n",
    "import torch.utils.checkpoint\n",
    "import transformers\n",
    "from accelerate import Accelerator\n",
    "from accelerate.logging import get_logger\n",
    "from accelerate.utils import ProjectConfiguration, set_seed\n",
    "from datasets import load_dataset\n",
    "from huggingface_hub import create_repo, upload_folder\n",
    "from packaging import version\n",
    "from peft import LoraConfig\n",
    "from peft.utils import get_peft_model_state_dict\n",
    "from torchvision import transforms\n",
    "from tqdm.auto import tqdm\n",
    "from transformers import CLIPTextModel, CLIPTokenizer\n",
    "import torchvision.utils as tvu\n",
    "\n",
    "import diffusers\n",
    "from diffusers import AutoencoderKL, DDPMScheduler, DiffusionPipeline, DDPMPipeline, DDIMPipeline, StableDiffusionPipeline, UNet2DConditionModel\n",
    "from diffusers.optimization import get_scheduler\n",
    "from diffusers.training_utils import cast_training_params, compute_snr\n",
    "from diffusers.utils import check_min_version, convert_state_dict_to_diffusers, is_wandb_available\n",
    "from diffusers.utils.hub_utils import load_or_create_model_card, populate_model_card\n",
    "from diffusers.utils.import_utils import is_xformers_available\n",
    "from diffusers.utils.torch_utils import is_compiled_module"
   ]
  },
  {
   "cell_type": "code",
   "execution_count": null,
   "metadata": {},
   "outputs": [],
   "source": [
    "# 设置参数\n",
    "output_dir = './results/082801/'\n",
    "logging_dir = 'logs'\n",
    "pretrained_model_path = './pretrained_models/ddpm_church_256/'\n",
    "mixed_precision = 'fp16'\n",
    "report_to = 'wandb'\n",
    "train_data_dir ='./data/exp/GaN/data/good/ab_free-png-g1-8400/' \n",
    "lr_scheduler = 'cosine'\n",
    "prediction_type = None\n",
    "\n",
    "gradient_accumulation_steps = 4\n",
    "seed = 1337\n",
    "rank = 4\n",
    "learning_rate = 1e-4\n",
    "adam_beta1 = 0.9\n",
    "adam_beta2 = 0.999\n",
    "adam_weight_decay = 1e-2\n",
    "adam_epsilon = 1e-8\n",
    "max_grad_norm = 1.0\n",
    "max_train_steps = 12000\n",
    "num_train_epochs = 100\n",
    "lr_warmup_steps = 0\n",
    "train_batch_size = 10\n",
    "dataloader_num_workers = 4\n",
    "noise_offset = 0\n",
    "checkpointing_steps = 1000\n",
    "resume_from_checkpoint = \"latest\"\n",
    "checkpoints_total_limit = None\n",
    "snr_gamma = None\n",
    "max_train_samples = None\n",
    "\n",
    "gradient_checkpointing = False\n",
    "allow_tf32 = False\n",
    "scale_lr = False\n",
    "use_8bit_adam = False"
   ]
  },
  {
   "cell_type": "code",
   "execution_count": null,
   "metadata": {},
   "outputs": [],
   "source": [
    "TrainConfig = dict(\n",
    "    output_dir = output_dir,\n",
    "    logging_dir = logging_dir,\n",
    "    pretrained_model_path = pretrained_model_path,\n",
    "    mixed_precision = mixed_precision,\n",
    "    report_to = report_to,\n",
    "    train_data_dir =train_data_dir,\n",
    "    lr_scheduler = lr_scheduler,\n",
    "    prediction_type = prediction_type,\n",
    "\n",
    "    gradient_accumulation_steps = gradient_accumulation_steps,\n",
    "    seed = seed,\n",
    "    rank = rank,\n",
    "    learning_rate = learning_rate,\n",
    "    adam_beta1 = adam_beta1,\n",
    "    adam_beta2 = adam_beta2,\n",
    "    adam_weight_decay = adam_weight_decay,\n",
    "    adam_epsilon = adam_epsilon, \n",
    "    max_grad_norm = max_grad_norm,\n",
    "    max_train_steps = max_train_steps,\n",
    "    num_train_epochs = num_train_epochs,\n",
    "    lr_warmup_steps = lr_warmup_steps,\n",
    "    train_batch_size = train_batch_size,\n",
    "    dataloader_num_workers = dataloader_num_workers,\n",
    "    noise_offset = noise_offset,\n",
    "    checkpointing_steps = checkpointing_steps,\n",
    "    resume_from_checkpoint = resume_from_checkpoint, \n",
    "    checkpoints_total_limit = checkpoints_total_limit,\n",
    "    snr_gamma = snr_gamma,\n",
    "    max_train_samples = max_train_samples,\n",
    "\n",
    "    gradient_checkpointing = gradient_checkpointing,\n",
    "    allow_tf32 = allow_tf32,\n",
    "    scale_lr = scale_lr,\n",
    "    use_8bit_adam = use_8bit_adam\n",
    ")"
   ]
  },
  {
   "cell_type": "markdown",
   "metadata": {},
   "source": [
    "### 1.配置日志和加速器"
   ]
  },
  {
   "cell_type": "code",
   "execution_count": null,
   "metadata": {},
   "outputs": [],
   "source": [
    "logging_dir = Path(output_dir, logging_dir)\n",
    "\n",
    "accelerator_project_config = ProjectConfiguration(project_dir=output_dir, logging_dir=logging_dir)\n",
    "\n",
    "accelerator = Accelerator(\n",
    "    gradient_accumulation_steps=gradient_accumulation_steps,\n",
    "    mixed_precision=mixed_precision,\n",
    "    log_with=report_to,\n",
    "    project_config=accelerator_project_config,\n",
    ")"
   ]
  },
  {
   "cell_type": "markdown",
   "metadata": {},
   "source": [
    "### 2.硬件加速设置"
   ]
  },
  {
   "cell_type": "code",
   "execution_count": null,
   "metadata": {},
   "outputs": [],
   "source": [
    "# Disable AMP for MPS.\n",
    "if torch.backends.mps.is_available():\n",
    "    accelerator.native_amp = False"
   ]
  },
  {
   "cell_type": "markdown",
   "metadata": {},
   "source": [
    "### 3.检查并导入Wandb"
   ]
  },
  {
   "cell_type": "code",
   "execution_count": null,
   "metadata": {},
   "outputs": [],
   "source": [
    "if report_to == \"wandb\":\n",
    "    if not is_wandb_available():\n",
    "        raise ImportError(\"Make sure to install wandb if you want to use it for logging during training.\")\n",
    "    import wandb"
   ]
  },
  {
   "cell_type": "markdown",
   "metadata": {},
   "source": [
    "### 4.设置日志记录格式与详细程度"
   ]
  },
  {
   "cell_type": "code",
   "execution_count": null,
   "metadata": {},
   "outputs": [],
   "source": [
    "logger = get_logger(__name__, log_level=\"INFO\")\n",
    "\n",
    "# Make one log on every process with the configuration for debugging.\n",
    "logging.basicConfig(\n",
    "    format=\"%(asctime)s - %(levelname)s - %(name)s - %(message)s\",\n",
    "    datefmt=\"%m/%d/%Y %H:%M:%S\",\n",
    "    level=logging.INFO,\n",
    ")\n",
    "logger.info(accelerator.state, main_process_only=False)\n",
    "\n",
    "if accelerator.is_local_main_process:\n",
    "    datasets.utils.logging.set_verbosity_warning()\n",
    "    transformers.utils.logging.set_verbosity_warning()\n",
    "    diffusers.utils.logging.set_verbosity_info()\n",
    "else:\n",
    "    datasets.utils.logging.set_verbosity_error()\n",
    "    transformers.utils.logging.set_verbosity_error()\n",
    "    diffusers.utils.logging.set_verbosity_error()"
   ]
  },
  {
   "cell_type": "markdown",
   "metadata": {},
   "source": [
    "### 5.设置随机种子"
   ]
  },
  {
   "cell_type": "code",
   "execution_count": null,
   "metadata": {},
   "outputs": [],
   "source": [
    "# If passed along, set the training seed now.\n",
    "if seed is not None:\n",
    "    set_seed(seed)"
   ]
  },
  {
   "cell_type": "markdown",
   "metadata": {},
   "source": [
    "### 6.处理输出目录"
   ]
  },
  {
   "cell_type": "code",
   "execution_count": null,
   "metadata": {},
   "outputs": [],
   "source": [
    "# Handle the repository creation\n",
    "if accelerator.is_main_process:\n",
    "    if output_dir is not None:\n",
    "        os.makedirs(output_dir, exist_ok=True)"
   ]
  },
  {
   "cell_type": "markdown",
   "metadata": {},
   "source": [
    "### 7.模型组件加载"
   ]
  },
  {
   "cell_type": "code",
   "execution_count": null,
   "metadata": {},
   "outputs": [],
   "source": [
    "# 加载预训练的DDPM模型\n",
    "pipeline = DDPMPipeline.from_pretrained(pretrained_model_path)\n",
    "# pipeline = DiffusionPipeline.from_pretrained(pretrained_model_path)\n",
    "\n",
    "# 提取模型组件\n",
    "noise_scheduler = pipeline.scheduler\n",
    "unet = pipeline.unet"
   ]
  },
  {
   "cell_type": "markdown",
   "metadata": {},
   "source": [
    "### 8.冻结模型参数，设置混合精度"
   ]
  },
  {
   "cell_type": "code",
   "execution_count": null,
   "metadata": {},
   "outputs": [],
   "source": [
    "# freeze parameters of models to save more memory\n",
    "unet.requires_grad_(False)\n",
    "\n",
    "# For mixed precision training we cast all non-trainable weights (vae, non-lora text_encoder and non-lora unet) to half-precision\n",
    "# as these weights are only used for inference, keeping weights in full precision is not required.\n",
    "weight_dtype = torch.float32\n",
    "if accelerator.mixed_precision == \"fp16\":\n",
    "    weight_dtype = torch.float16\n",
    "elif accelerator.mixed_precision == \"bf16\":\n",
    "    weight_dtype = torch.bfloat16\n",
    "\n",
    "# Freeze the unet parameters before adding adapters\n",
    "for param in unet.parameters():\n",
    "    param.requires_grad_(False)"
   ]
  },
  {
   "cell_type": "code",
   "execution_count": null,
   "metadata": {},
   "outputs": [],
   "source": [
    "print(weight_dtype)"
   ]
  },
  {
   "cell_type": "markdown",
   "metadata": {},
   "source": [
    "### 9.添加LoRA Adapter"
   ]
  },
  {
   "cell_type": "code",
   "execution_count": null,
   "metadata": {},
   "outputs": [],
   "source": [
    "class LoRALayer(nn.Module):\n",
    "    def __init__(self, original_layer, r, alpha):\n",
    "        super(LoRALayer, self).__init__()\n",
    "        self.original_layer = original_layer\n",
    "        self.r = r\n",
    "        self.alpha = alpha\n",
    "        self.lora_up = nn.Linear(original_layer.in_features, r, bias=False)\n",
    "        self.lora_down = nn.Linear(r, original_layer.out_features, bias=False)\n",
    "        self.scaling = self.alpha / self.r\n",
    "\n",
    "        # Initialize weights\n",
    "        nn.init.kaiming_uniform_(self.lora_up.weight, a=math.sqrt(5))\n",
    "        nn.init.zeros_(self.lora_down.weight)\n",
    "\n",
    "    def forward(self, x):\n",
    "        return self.original_layer(x) + self.lora_down(self.lora_up(x)) * self.scaling\n",
    "\n",
    "def add_lora_adapters(unet, r, alpha):\n",
    "    modules_to_modify = []\n",
    "    for name, module in unet.named_modules():\n",
    "        if isinstance(module, nn.Linear):\n",
    "            modules_to_modify.append((name, module))\n",
    "    \n",
    "    for name, module in modules_to_modify:\n",
    "        parent_module = unet\n",
    "        for part in name.split('.')[:-1]:\n",
    "            parent_module = getattr(parent_module, part)\n",
    "        last_part = name.split('.')[-1]\n",
    "        setattr(parent_module, last_part, LoRALayer(module, r, alpha))\n",
    "    \n",
    "    return unet"
   ]
  },
  {
   "cell_type": "code",
   "execution_count": null,
   "metadata": {},
   "outputs": [],
   "source": [
    "# Add adapter and make sure the trainable params are in float32.\n",
    "unet = add_lora_adapters(unet, rank, rank)\n",
    "\n",
    "# Move unet, vae and text_encoder to device and cast to weight_dtype\n",
    "unet.to(accelerator.device, dtype=weight_dtype)\n",
    "\n",
    "if mixed_precision == \"fp16\":\n",
    "    # only upcast trainable parameters (LoRA) into fp32\n",
    "    cast_training_params(unet, dtype=torch.float32)\n",
    "\n",
    "lora_layers = filter(lambda p: p.requires_grad, unet.parameters())\n",
    "\n",
    "if gradient_checkpointing:\n",
    "    unet.enable_gradient_checkpointing()"
   ]
  },
  {
   "cell_type": "markdown",
   "metadata": {},
   "source": [
    "### 10.初始化优化器"
   ]
  },
  {
   "cell_type": "code",
   "execution_count": null,
   "metadata": {},
   "outputs": [],
   "source": [
    "# Enable TF32 for faster training on Ampere GPUs,\n",
    "# cf https://pytorch.org/docs/stable/notes/cuda.html#tensorfloat-32-tf32-on-ampere-devices\n",
    "if allow_tf32:\n",
    "    torch.backends.cuda.matmul.allow_tf32 = True\n",
    "\n",
    "if scale_lr:\n",
    "    learning_rate = (\n",
    "        learning_rate * gradient_accumulation_steps * train_batch_size * accelerator.num_processes\n",
    "    )\n",
    "\n",
    "# Initialize the optimizer\n",
    "if use_8bit_adam:\n",
    "    try:\n",
    "        import bitsandbytes as bnb\n",
    "    except ImportError:\n",
    "        raise ImportError(\n",
    "            \"Please install bitsandbytes to use 8-bit Adam. You can do so by running `pip install bitsandbytes`\"\n",
    "        )\n",
    "\n",
    "    optimizer_cls = bnb.optim.AdamW8bit\n",
    "else:\n",
    "    optimizer_cls = torch.optim.AdamW\n",
    "\n",
    "optimizer = optimizer_cls(\n",
    "    lora_layers,\n",
    "    lr=learning_rate,\n",
    "    betas=(adam_beta1, adam_beta2),\n",
    "    weight_decay=adam_weight_decay,\n",
    "    eps=adam_epsilon,\n",
    ")"
   ]
  },
  {
   "cell_type": "markdown",
   "metadata": {},
   "source": [
    "### 11.导入并预处理数据集"
   ]
  },
  {
   "cell_type": "code",
   "execution_count": null,
   "metadata": {},
   "outputs": [],
   "source": [
    "if train_data_dir is not None:\n",
    "    data_files = {\"train\": os.path.join(train_data_dir, \"**\")}\n",
    "    dataset = load_dataset(\"imagefolder\", data_files=data_files, cache_dir=None)\n",
    "else:\n",
    "    raise ValueError(\"Please provide a training data directory using --train_data_dir\")"
   ]
  },
  {
   "cell_type": "code",
   "execution_count": null,
   "metadata": {},
   "outputs": [],
   "source": [
    "train_transforms = transforms.Compose([\n",
    "    transforms.Resize((256, 256)),\n",
    "    transforms.RandomHorizontalFlip(),\n",
    "    transforms.ToTensor(),\n",
    "    transforms.Normalize([0.5, 0.5, 0.5], [0.5, 0.5, 0.5])\n",
    "])\n",
    "\n",
    "def unwrap_model(model):\n",
    "        model = accelerator.unwrap_model(model)\n",
    "        model = model._orig_mod if is_compiled_module(model) else model\n",
    "        return model\n",
    "\n",
    "def preprocess_train(examples):\n",
    "    images = [image.convert(\"RGB\") for image in examples[\"image\"]]\n",
    "    examples[\"pixel_values\"] = [train_transforms(image) for image in images]\n",
    "    return examples"
   ]
  },
  {
   "cell_type": "markdown",
   "metadata": {},
   "source": [
    "### 12.创建DataLoader"
   ]
  },
  {
   "cell_type": "code",
   "execution_count": null,
   "metadata": {},
   "outputs": [],
   "source": [
    "with accelerator.main_process_first():\n",
    "    if max_train_samples is not None:\n",
    "        dataset[\"train\"] = dataset[\"train\"].shuffle(seed).select(range(max_train_samples))\n",
    "    # Set the training transforms\n",
    "    train_dataset = dataset[\"train\"].with_transform(preprocess_train)\n",
    "# dataset = dataset.with_transform(preprocess_train)\n",
    "\n",
    "train_dataloader = torch.utils.data.DataLoader(\n",
    "    train_dataset,\n",
    "    shuffle=True,\n",
    "    batch_size=train_batch_size,\n",
    "    num_workers=dataloader_num_workers,\n",
    "    collate_fn=lambda examples: {\n",
    "        \"pixel_values\": torch.stack([example[\"pixel_values\"] for example in examples])\n",
    "    }\n",
    ")"
   ]
  },
  {
   "cell_type": "markdown",
   "metadata": {},
   "source": [
    "### 13.创建Scheduler，计算训练步数"
   ]
  },
  {
   "cell_type": "code",
   "execution_count": null,
   "metadata": {},
   "outputs": [],
   "source": [
    "overrode_max_train_steps = False\n",
    "num_update_steps_per_epoch = math.ceil(len(train_dataloader) / gradient_accumulation_steps)\n",
    "if max_train_steps is None:\n",
    "    max_train_steps = num_train_epochs * num_update_steps_per_epoch\n",
    "    overrode_max_train_steps = True\n",
    "\n",
    "lr_scheduler = get_scheduler(\n",
    "    lr_scheduler,\n",
    "    optimizer=optimizer,\n",
    "    num_warmup_steps=lr_warmup_steps * accelerator.num_processes,\n",
    "    num_training_steps=max_train_steps * accelerator.num_processes,\n",
    ")\n",
    "\n"
   ]
  },
  {
   "cell_type": "markdown",
   "metadata": {},
   "source": [
    "### 14.最后的准备与训练"
   ]
  },
  {
   "cell_type": "code",
   "execution_count": null,
   "metadata": {},
   "outputs": [],
   "source": [
    "# Prepare everything with our `accelerator`.\n",
    "unet, optimizer, train_dataloader, lr_scheduler = accelerator.prepare(\n",
    "    unet, optimizer, train_dataloader, lr_scheduler\n",
    ")\n",
    "\n",
    "# We need to recalculate our total training steps as the size of the training dataloader may have changed.\n",
    "num_update_steps_per_epoch = math.ceil(len(train_dataloader) / gradient_accumulation_steps)\n",
    "if overrode_max_train_steps:\n",
    "    max_train_steps = num_train_epochs * num_update_steps_per_epoch\n",
    "# Afterwards we recalculate our number of training epochs\n",
    "num_train_epochs = math.ceil(max_train_steps / num_update_steps_per_epoch)\n",
    "\n",
    "# We need to initialize the trackers we use, and also store our configuration.\n",
    "# The trackers initializes automatically on the main process.\n",
    "if accelerator.is_main_process:\n",
    "    os.environ['WANDB_NOTEBOOK_NAME'] = 'Finetune.ipynb'\n",
    "    # wandb.init()\n",
    "    accelerator.init_trackers(\"DDPM-LoRA-fine-tune\", config=TrainConfig)\n",
    "\n",
    "# Train!\n",
    "total_batch_size = train_batch_size * accelerator.num_processes * gradient_accumulation_steps\n",
    "\n",
    "logger.info(\"***** Running training *****\")\n",
    "logger.info(f\"  Num examples = {len(train_dataset)}\")\n",
    "logger.info(f\"  Num Epochs = {num_train_epochs}\")\n",
    "logger.info(f\"  Instantaneous batch size per device = {train_batch_size}\")\n",
    "logger.info(f\"  Total train batch size (w. parallel, distributed & accumulation) = {total_batch_size}\")\n",
    "logger.info(f\"  Gradient Accumulation steps = {gradient_accumulation_steps}\")\n",
    "logger.info(f\"  Total optimization steps = {max_train_steps}\")\n",
    "global_step = 0\n",
    "first_epoch = 0\n",
    "\n",
    "# initial_global_step = 0\n",
    "\n",
    "# Potentially load in the weights and states from a previous save\n",
    "if resume_from_checkpoint:\n",
    "    if resume_from_checkpoint != \"latest\":\n",
    "        path = os.path.basename(resume_from_checkpoint)\n",
    "    else:\n",
    "        # Get the most recent checkpoint\n",
    "        dirs = os.listdir(output_dir)\n",
    "        dirs = [d for d in dirs if d.startswith(\"checkpoint\")]\n",
    "        dirs = sorted(dirs, key=lambda x: int(x.split(\"-\")[1]))\n",
    "        path = dirs[-1] if len(dirs) > 0 else None\n",
    "\n",
    "    if path is None:\n",
    "        accelerator.print(\n",
    "            f\"Checkpoint '{resume_from_checkpoint}' does not exist. Starting a new training run.\"\n",
    "        )\n",
    "        resume_from_checkpoint = None\n",
    "        initial_global_step = 0\n",
    "    else:\n",
    "        accelerator.print(f\"Resuming from checkpoint {path}\")\n",
    "\n",
    "        accelerator.load_state(os.path.join(output_dir, path))\n",
    "        global_step = int(path.split(\"-\")[1])\n",
    "\n",
    "        initial_global_step = global_step\n",
    "        first_epoch = global_step // num_update_steps_per_epoch\n",
    "else:\n",
    "    initial_global_step = 0\n",
    "\n",
    "progress_bar = tqdm(\n",
    "    range(0, max_train_steps),\n",
    "    initial=initial_global_step,\n",
    "    desc=\"Steps\",\n",
    "    # Only show the progress bar once on each machine.\n",
    "    disable=not accelerator.is_local_main_process,\n",
    ")\n",
    "\n",
    "for epoch in range(first_epoch, num_train_epochs):\n",
    "    unet.train()\n",
    "    train_loss = 0.0\n",
    "    for step, batch in enumerate(train_dataloader):\n",
    "        with accelerator.accumulate(unet):\n",
    "            # 获取图像\n",
    "            latents = batch[\"pixel_values\"].to(accelerator.device, dtype=weight_dtype)\n",
    "            \n",
    "            # 生成噪声\n",
    "            noise = torch.randn_like(latents)\n",
    "            \n",
    "            if noise_offset:\n",
    "                # https://www.crosslabs.org//blog/diffusion-with-offset-noise\n",
    "                noise += noise_offset * torch.randn(\n",
    "                    (latents.shape[0], latents.shape[1], 1, 1), device=latents.device\n",
    "                )\n",
    "\n",
    "            bsz = latents.shape[0]\n",
    "            # 随机选择时间步长\n",
    "            timesteps = torch.randint(0, noise_scheduler.config.num_train_timesteps, (bsz,), device=latents.device)\n",
    "            timesteps = timesteps.long()\n",
    "\n",
    "            # 添加噪声到潜变量\n",
    "            noisy_latents = noise_scheduler.add_noise(latents, noise, timesteps)\n",
    "            # Get the target for loss depending on the prediction type\n",
    "            if prediction_type is not None:\n",
    "                # set prediction_type of scheduler if defined\n",
    "                noise_scheduler.register_to_config(prediction_type=prediction_type)\n",
    "\n",
    "            if noise_scheduler.config.prediction_type == \"epsilon\":\n",
    "                target = noise\n",
    "            elif noise_scheduler.config.prediction_type == \"v_prediction\":\n",
    "                target = noise_scheduler.get_velocity(latents, noise, timesteps)\n",
    "            else:\n",
    "                raise ValueError(f\"Unknown prediction type {noise_scheduler.config.prediction_type}\")\n",
    "\n",
    "            # 预测噪声并计算损失\n",
    "            model_pred = unet(noisy_latents, timesteps, return_dict=False)[0]\n",
    "\n",
    "            if snr_gamma is None:\n",
    "                loss = F.mse_loss(model_pred.float(), target.float(), reduction=\"mean\")\n",
    "            else:\n",
    "                # Compute loss-weights as per Section 3.4 of https://arxiv.org/abs/2303.09556.\n",
    "                # Since we predict the noise instead of x_0, the original formulation is slightly changed.\n",
    "                # This is discussed in Section 4.2 of the same paper.\n",
    "                snr = compute_snr(noise_scheduler, timesteps)\n",
    "                mse_loss_weights = torch.stack([snr, snr_gamma * torch.ones_like(timesteps)], dim=1).min(\n",
    "                    dim=1\n",
    "                )[0]\n",
    "                if noise_scheduler.config.prediction_type == \"epsilon\":\n",
    "                    mse_loss_weights = mse_loss_weights / snr\n",
    "                elif noise_scheduler.config.prediction_type == \"v_prediction\":\n",
    "                    mse_loss_weights = mse_loss_weights / (snr + 1)\n",
    "\n",
    "                loss = F.mse_loss(model_pred.float(), target.float(), reduction=\"none\")\n",
    "                loss = loss.mean(dim=list(range(1, len(loss.shape)))) * mse_loss_weights\n",
    "                loss = loss.mean()\n",
    "\n",
    "            avg_loss = accelerator.gather(loss.repeat(train_batch_size)).mean()\n",
    "            train_loss += avg_loss.item() / gradient_accumulation_steps\n",
    "\n",
    "            # 反向传播\n",
    "            accelerator.backward(loss)\n",
    "            if accelerator.sync_gradients:\n",
    "                accelerator.clip_grad_norm_(unet.parameters(), max_grad_norm)\n",
    "            optimizer.step()\n",
    "            lr_scheduler.step()\n",
    "            optimizer.zero_grad()\n",
    "\n",
    "        if accelerator.sync_gradients:\n",
    "            progress_bar.update(1)\n",
    "            global_step += 1\n",
    "            accelerator.log({\"train_loss\": train_loss}, step=global_step)\n",
    "            train_loss = 0.0\n",
    "\n",
    "            if global_step % checkpointing_steps == 0:\n",
    "                if accelerator.is_main_process:\n",
    "                    # _before_ saving state, check if this save would set us over the `checkpoints_total_limit`\n",
    "                    if checkpoints_total_limit is not None:\n",
    "                        checkpoints = os.listdir(output_dir)\n",
    "                        checkpoints = [d for d in checkpoints if d.startswith(\"checkpoint\")]\n",
    "                        checkpoints = sorted(checkpoints, key=lambda x: int(x.split(\"-\")[1]))\n",
    "\n",
    "                        # before we save the new checkpoint, we need to have at _most_ `checkpoints_total_limit - 1` checkpoints\n",
    "                        if len(checkpoints) >= checkpoints_total_limit:\n",
    "                            num_to_remove = len(checkpoints) - checkpoints_total_limit + 1\n",
    "                            removing_checkpoints = checkpoints[0:num_to_remove]\n",
    "\n",
    "                            logger.info(\n",
    "                                f\"{len(checkpoints)} checkpoints already exist, removing {len(removing_checkpoints)} checkpoints\"\n",
    "                            )\n",
    "                            logger.info(f\"removing checkpoints: {', '.join(removing_checkpoints)}\")\n",
    "\n",
    "                            for removing_checkpoint in removing_checkpoints:\n",
    "                                removing_checkpoint = os.path.join(output_dir, removing_checkpoint)\n",
    "                                shutil.rmtree(removing_checkpoint)\n",
    "\n",
    "                    save_path = os.path.join(output_dir, f\"checkpoint-{global_step}\")\n",
    "                    accelerator.save_state(save_path)\n",
    "\n",
    "                    unwrapped_unet = unwrap_model(unet)\n",
    "                    torch.save(unwrapped_unet.state_dict(), os.path.join(save_path, 'unet.ckpt'))\n",
    "\n",
    "                    logger.info(f\"Saved state to {save_path}\")\n",
    "\n",
    "        logs = {\"step_loss\": loss.detach().item(), \"lr\": lr_scheduler.get_last_lr()[0]}\n",
    "        progress_bar.set_postfix(**logs)\n",
    "\n",
    "        if global_step >= max_train_steps:\n",
    "            break"
   ]
  }
 ],
 "metadata": {
  "kernelspec": {
   "display_name": "Python 3.8.17 ('base')",
   "language": "python",
   "name": "python3"
  },
  "language_info": {
   "codemirror_mode": {
    "name": "ipython",
    "version": 3
   },
   "file_extension": ".py",
   "mimetype": "text/x-python",
   "name": "python",
   "nbconvert_exporter": "python",
   "pygments_lexer": "ipython3",
   "version": "3.9.20"
  },
  "orig_nbformat": 4,
  "vscode": {
   "interpreter": {
    "hash": "2f394aca7ca06fed1e6064aef884364492d7cdda3614a461e02e6407fc40ba69"
   }
  }
 },
 "nbformat": 4,
 "nbformat_minor": 2
}
