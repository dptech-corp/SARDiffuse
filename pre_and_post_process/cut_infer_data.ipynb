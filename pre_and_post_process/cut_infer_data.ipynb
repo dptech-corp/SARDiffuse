{
 "cells": [
  {
   "cell_type": "code",
   "execution_count": 1,
   "metadata": {},
   "outputs": [],
   "source": [
    "import os\n",
    "import cv2\n",
    "import numpy as np"
   ]
  },
  {
   "cell_type": "code",
   "execution_count": 2,
   "metadata": {},
   "outputs": [],
   "source": [
    "filename = 'Si-test-0710-png-smo2'\n",
    "origin_dir = os.path.join(filename, 'origin-451')\n",
    "cut_dir = os.path.join(filename, 'cut-s128-451')\n",
    "\n",
    "os.makedirs(origin_dir, exist_ok=True)\n",
    "os.makedirs(cut_dir, exist_ok=True)\n",
    "\n",
    "origin_files = os.listdir(origin_dir)"
   ]
  },
  {
   "cell_type": "code",
   "execution_count": 5,
   "metadata": {},
   "outputs": [
    {
     "name": "stdout",
     "output_type": "stream",
     "text": [
      "(2048, 2048, 3)\n"
     ]
    }
   ],
   "source": [
    "def cut_data(data, lx, ly, stride=(1, 1), standardize=False, cover_all = False):\n",
    "    \"\"\"\n",
    "    cuts up the data into pieces with dimension lx-by-ly\n",
    "    data = 2-dimensional array with integer elements ranging from 0 to num_classes-1\n",
    "    \"\"\"\n",
    "    data_shape = np.shape(data)\n",
    "    print(data_shape)\n",
    "    (nx, ny) = (data_shape[0], data_shape[1])\n",
    "    (sx, sy) = stride\n",
    "\n",
    "    if lx > nx or ly > ny or sx > nx or sy > ny:\n",
    "        print(\"Error: cut dimensions are bigger than the image\")\n",
    "        print(lx, ly)\n",
    "        exit()\n",
    "\n",
    "    x_list = np.arange(0, nx - lx + 1, sx)\n",
    "    y_list = np.arange(0, ny - ly + 1, sy)\n",
    "    if cover_all:\n",
    "        if x_list[-1]+lx < nx:\n",
    "            x_list = np.append(x_list, nx-lx)\n",
    "        if y_list[-1]+ly < ny:\n",
    "            y_list = np.append(y_list, ny-ly)\n",
    "            \n",
    "    cut_data = [ data[i:i+lx,j:j+ly] for j in y_list for i in x_list]\n",
    "\n",
    "    if standardize:\n",
    "        cut_data = [(x - np.mean(x))/np.std(x) for x in cut_data]\n",
    "\n",
    "    return np.array(cut_data)\n",
    "\n",
    "for origin in origin_files:\n",
    "    pic_dir = os.path.join(origin_dir, origin)\n",
    "    input_img = cv2.imread(pic_dir)\n",
    "    input_img = np.array(input_img)\n",
    "    # (size_x, size_y) = input_img.shape\n",
    "\n",
    "    (lx, ly) = (256, 256)\n",
    "    (sx, sy) = (128, 128)\n",
    "    input_cuts = cut_data(input_img, lx, ly, (sx, sy), standardize=False, cover_all=True)\n",
    "    count = 0\n",
    "    for cut in input_cuts:\n",
    "        save_dir = os.path.join(cut_dir, f'{origin[:-4]}_{count}.png')\n",
    "        cv2.imwrite(save_dir, cut) \n",
    "        count += 1"
   ]
  }
 ],
 "metadata": {
  "kernelspec": {
   "display_name": "Microscopy",
   "language": "python",
   "name": "python3"
  },
  "language_info": {
   "codemirror_mode": {
    "name": "ipython",
    "version": 3
   },
   "file_extension": ".py",
   "mimetype": "text/x-python",
   "name": "python",
   "nbconvert_exporter": "python",
   "pygments_lexer": "ipython3",
   "version": "3.9.19"
  }
 },
 "nbformat": 4,
 "nbformat_minor": 2
}
